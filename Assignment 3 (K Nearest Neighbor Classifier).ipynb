{
  "cells": [
    {
      "cell_type": "code",
      "execution_count": null,
      "metadata": {},
      "outputs": [],
      "source": [
        "\"\"\"\n",
        "Assignment: 3\n",
        "Task : K Nearest Neighbor Classifier\n",
        "ID: 190104140 \n",
        "Section: C2\n",
        "\n",
        "\"\"\""
      ]
    },
    {
      "cell_type": "code",
      "execution_count": 1,
      "metadata": {
        "id": "kKLDHIJzctzW"
      },
      "outputs": [],
      "source": [
        "from google.colab import files\n",
        "import pandas as pd\n",
        "import numpy as np\n",
        "import matplotlib.pyplot as plt"
      ]
    },
    {
      "cell_type": "code",
      "execution_count": 2,
      "metadata": {
        "id": "XsONRqIYc8D2"
      },
      "outputs": [],
      "source": [
        "# uploaded = files.upload()\n",
        "\n",
        "train = pd.read_csv('/content/train_knn.txt', sep = \",\" ,  header = None, dtype = 'Int64')\n",
        "test = pd.read_csv('/content/test_knn.txt', sep = \",\" ,  header = None, dtype = 'Int64')\n",
        "\n",
        "train = train.rename(columns={0: \"feature1\", 1: \"feature2\", 2: \"class\"})\n",
        "test = test.rename(columns={0: \"feature1\", 1: \"feature2\"})"
      ]
    },
    {
      "cell_type": "code",
      "execution_count": 3,
      "metadata": {
        "colab": {
          "base_uri": "https://localhost:8080/",
          "height": 410
        },
        "id": "4sbgP4SYd_35",
        "outputId": "37a25870-db7b-4553-c7a6-bef250f4afe0"
      },
      "outputs": [
        {
          "data": {
            "image/png": "[encoded data removed]",
            "text/plain": [
              "<Figure size 600x400 with 1 Axes>"
            ]
          },
          "metadata": {},
          "output_type": "display_data"
        }
      ],
      "source": [
        "# Plot of classified Train datapoints\n",
        "\n",
        "class1 = train[train[\"class\"] == 1]\n",
        "class2 = train[train[\"class\"] == 2]\n",
        "\n",
        "plt.close()\n",
        "plt.figure(figsize=(6, 4))\n",
        "plt.plot(class1.iloc[:,0], class1.iloc[:,1], 'ro', label= 'Class 1')\n",
        "plt.plot(class2.iloc[:,0], class2.iloc[:,1], 'g*', label= 'Class 2')\n",
        "\n",
        "plt.xlabel('Feature 1')\n",
        "plt.ylabel('Feature 2')\n",
        "plt.title(\"Plot of Train datapoints\")\n",
        "plt.legend()\n",
        "plt.show()"
      ]
    },
    {
      "cell_type": "code",
      "execution_count": 10,
      "metadata": {
        "colab": {
          "base_uri": "https://localhost:8080/"
        },
        "id": "2o4AGYDqisrW",
        "outputId": "edce7c22-dfe2-46a7-f714-0fb681abe04a"
      },
      "outputs": [
        {
          "name": "stdout",
          "output_type": "stream",
          "text": [
            "Value of K: 3\n",
            "Test point: 3, 7\n",
            "\n",
            "Distance 1: 9 \t Class: 1\n",
            "Distance 2: 9 \t Class: 2\n",
            "Distance 3: 10 \t Class: 1\n",
            "Predicted Class: 1\n",
            "\n",
            "\n",
            "Test point: 7, 7\n",
            "\n",
            "Distance 1: 0 \t Class: 1\n",
            "Distance 2: 1 \t Class: 1\n",
            "Distance 3: 1 \t Class: 1\n",
            "Predicted Class: 1\n",
            "\n",
            "\n",
            "Test point: 4, 3\n",
            "\n",
            "Distance 1: 0 \t Class: 2\n",
            "Distance 2: 1 \t Class: 2\n",
            "Distance 3: 1 \t Class: 2\n",
            "Predicted Class: 2\n",
            "\n",
            "\n",
            "Test point: 2, 8\n",
            "\n",
            "Distance 1: 17 \t Class: 1\n",
            "Distance 2: 17 \t Class: 2\n",
            "Distance 3: 17 \t Class: 2\n",
            "Predicted Class: 2\n",
            "\n",
            "\n",
            "Test point: 3, 5\n",
            "\n",
            "Distance 1: 1 \t Class: 2\n",
            "Distance 2: 2 \t Class: 2\n",
            "Distance 3: 4 \t Class: 2\n",
            "Predicted Class: 2\n",
            "\n",
            "\n",
            "Test point: 1, 2\n",
            "\n",
            "Distance 1: 2 \t Class: 2\n",
            "Distance 2: 4 \t Class: 2\n",
            "Distance 3: 4 \t Class: 2\n",
            "Predicted Class: 2\n",
            "\n",
            "\n",
            "Test point: 4, 8\n",
            "\n",
            "Distance 1: 5 \t Class: 1\n",
            "Distance 2: 8 \t Class: 1\n",
            "Distance 3: 10 \t Class: 1\n",
            "Predicted Class: 1\n",
            "\n",
            "\n",
            "Test point: 8, 3\n",
            "\n",
            "Distance 1: 2 \t Class: 1\n",
            "Distance 2: 5 \t Class: 1\n",
            "Distance 3: 5 \t Class: 1\n",
            "Predicted Class: 1\n",
            "\n",
            "\n",
            "Test point: 8, 4\n",
            "\n",
            "Distance 1: 1 \t Class: 1\n",
            "Distance 2: 2 \t Class: 1\n",
            "Distance 3: 4 \t Class: 1\n",
            "Predicted Class: 1\n",
            "\n",
            "\n"
          ]
        }
      ],
      "source": [
        "# Implementation of K Nearest Neighbor Algorithm\n",
        "\n",
        "K = int(input(\"Value of K: \"))\n",
        "\n",
        "x1 = train['feature1']\n",
        "x2 = test['feature1']\n",
        "y1 = train['feature2']\n",
        "y2 = test['feature2']\n",
        "\n",
        "predicted = []\n",
        "file = open(\"prediction.txt\", \"a\")\n",
        "\n",
        "for i in range(len(test)):\n",
        "  distance = []\n",
        "  file.write(f\"Test point: {x2[i]}, {y2[i]}\\n\\n\")\n",
        "\n",
        "  for j in range(len(train)):\n",
        "    distance.append(pow((x2[i]-x1[j]), 2) + pow((y2[i]-y1[j]), 2))\n",
        "\n",
        "  neighbor_indices = np.argsort(distance)[:K]\n",
        "  neighbor_classes = train.loc[neighbor_indices, [\"class\"]]\n",
        "  predicted.append(int(neighbor_classes.mode()[\"class\"]))\n",
        "\n",
        "  for count, index in enumerate(neighbor_indices):\n",
        "    file.write(f\"Distance {count + 1}: {distance[index]} \\t Class: {int(neighbor_classes.iloc[count])}\\n\")\n",
        "  file.write(f\"Predicted Class: {predicted[i]}\\n\\n\\n\")\n",
        "\n",
        "test[\"class\"] = predicted\n",
        "file.close()"
      ]
    },
    {
      "cell_type": "code",
      "execution_count": 5,
      "metadata": {
        "colab": {
          "base_uri": "https://localhost:8080/",
          "height": 410
        },
        "id": "kLPUaGiyulDh",
        "outputId": "90feb973-da2f-4dab-9846-2a690e56742e"
      },
      "outputs": [
        {
          "data": {
            "image/png": "[encoded data removed]",
            "text/plain": [
              "<Figure size 600x400 with 1 Axes>"
            ]
          },
          "metadata": {},
          "output_type": "display_data"
        }
      ],
      "source": [
        "# Plot of classified test datapoints\n",
        "\n",
        "class1 = test[test[\"class\"] == 1]\n",
        "class2 = test[test[\"class\"] == 2]\n",
        "\n",
        "plt.close()\n",
        "plt.figure(figsize=(6, 4))\n",
        "plt.plot(class1.iloc[:,0], class1.iloc[:,1], 'ro', label= 'Class 1')\n",
        "plt.plot(class2.iloc[:,0], class2.iloc[:,1], 'g*', label= 'Class 2')\n",
        "\n",
        "plt.xlabel('Feature 1')\n",
        "plt.ylabel('Feature 2')\n",
        "plt.title(\"Plot of Test datapoints\")\n",
        "plt.legend()\n",
        "plt.show()"
      ]
    }
  ],
  "metadata": {
    "colab": {
      "provenance": []
    },
    "kernelspec": {
      "display_name": "Python 3",
      "name": "python3"
    },
    "language_info": {
      "name": "python"
    }
  },
  "nbformat": 4,
  "nbformat_minor": 0
}
